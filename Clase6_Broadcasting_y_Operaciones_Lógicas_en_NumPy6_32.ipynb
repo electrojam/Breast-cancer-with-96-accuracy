{
  "nbformat": 4,
  "nbformat_minor": 0,
  "metadata": {
    "colab": {
      "provenance": [],
      "authorship_tag": "ABX9TyPxgdJ6CCwKkVchD2F4+5RS",
      "include_colab_link": true
    },
    "kernelspec": {
      "name": "python3",
      "display_name": "Python 3"
    },
    "language_info": {
      "name": "python"
    }
  },
  "cells": [
    {
      "cell_type": "markdown",
      "metadata": {
        "id": "view-in-github",
        "colab_type": "text"
      },
      "source": [
        "<a href=\"https://colab.research.google.com/github/electrojam/Breast-cancer-with-96-accuracy/blob/main/Clase6_Broadcasting_y_Operaciones_L%C3%B3gicas_en_NumPy6_32.ipynb\" target=\"_parent\"><img src=\"https://colab.research.google.com/assets/colab-badge.svg\" alt=\"Open In Colab\"/></a>"
      ]
    },
    {
      "cell_type": "markdown",
      "source": [
        "### Brodadcasting"
      ],
      "metadata": {
        "id": "g6a6Hi1Yoz7I"
      }
    },
    {
      "cell_type": "code",
      "execution_count": 2,
      "metadata": {
        "id": "eKB2KQBXn4_M"
      },
      "outputs": [],
      "source": [
        "import numpy as np"
      ]
    },
    {
      "cell_type": "code",
      "source": [
        "# numpy extiende array discount para multiplicarlo por array prices\n",
        "prices = np.array([100, 200, 300])\n",
        "discount = np.array([0.9])\n",
        "discount_prices = prices * discount\n",
        "print(discount_prices)"
      ],
      "metadata": {
        "colab": {
          "base_uri": "https://localhost:8080/"
        },
        "id": "5E_fBoqvoGsF",
        "outputId": "f4a50519-5fb5-49ae-b56e-960a08ea32da"
      },
      "execution_count": 4,
      "outputs": [
        {
          "output_type": "stream",
          "name": "stdout",
          "text": [
            "[ 90. 180. 270.]\n"
          ]
        }
      ]
    },
    {
      "cell_type": "code",
      "source": [
        "# numpy extiende array (matriz) discount para sumarlo al array (matriz) prices\n",
        "prices = np.random.randint(100, 500, size=(3,3))\n",
        "discount = np.array([10, 20, 30])\n",
        "discount_prices = prices + discount\n",
        "print(prices, \"\\n\")\n",
        "print(discount_prices)"
      ],
      "metadata": {
        "colab": {
          "base_uri": "https://localhost:8080/"
        },
        "id": "VWtIVT0ypGwO",
        "outputId": "e557f34c-116e-4654-f66d-14f281339e36"
      },
      "execution_count": 5,
      "outputs": [
        {
          "output_type": "stream",
          "name": "stdout",
          "text": [
            "[[199 231 374]\n",
            " [401 318 324]\n",
            " [174 298 208]] \n",
            "\n",
            "[[209 251 404]\n",
            " [411 338 354]\n",
            " [184 318 238]]\n"
          ]
        }
      ]
    },
    {
      "cell_type": "code",
      "source": [
        "# concatenacion\n",
        "array_a  = np.array([1,2,3])\n",
        "array_b  = np.array([4,5,6])\n",
        "concatenate_a = np.concatenate((array_a, array_a))\n",
        "print(concatenate_a)\n",
        "concatenate_ab = np.concatenate((array_a, array_b))\n",
        "print(concatenate_ab)\n"
      ],
      "metadata": {
        "colab": {
          "base_uri": "https://localhost:8080/"
        },
        "id": "moOWhprDquxu",
        "outputId": "37f0cd56-2fee-42e8-9c71-43bd6150dc88"
      },
      "execution_count": 8,
      "outputs": [
        {
          "output_type": "stream",
          "name": "stdout",
          "text": [
            "[1 2 3 1 2 3]\n",
            "[1 2 3 4 5 6]\n"
          ]
        }
      ]
    },
    {
      "cell_type": "code",
      "source": [
        "# stacking apilación de arrays verticalmente\n",
        "stacked_vertical = np.vstack((array_a, array_b))\n",
        "print(stacked_vertical)"
      ],
      "metadata": {
        "colab": {
          "base_uri": "https://localhost:8080/"
        },
        "id": "tQl5Q0KHsyrX",
        "outputId": "0b956ecb-9c2d-432d-fe61-84acf5d0029e"
      },
      "execution_count": 10,
      "outputs": [
        {
          "output_type": "stream",
          "name": "stdout",
          "text": [
            "[[1 2 3]\n",
            " [4 5 6]]\n"
          ]
        }
      ]
    },
    {
      "cell_type": "code",
      "source": [
        "# stacked apilación de arrays horizontalmente\n",
        "stacked_horizontal = np.hstack((array_a, array_b))\n",
        "print(stacked_horizontal)"
      ],
      "metadata": {
        "colab": {
          "base_uri": "https://localhost:8080/"
        },
        "id": "7lCzJpXJtRZa",
        "outputId": "d31fc491-ff1b-47fd-c643-423aec436715"
      },
      "execution_count": 11,
      "outputs": [
        {
          "output_type": "stream",
          "name": "stdout",
          "text": [
            "[1 2 3 4 5 6]\n"
          ]
        }
      ]
    },
    {
      "cell_type": "code",
      "source": [
        "# split división de arrays\n",
        "array_c = np.arange(1, 10)\n",
        "split_array = np.split(array_c, 3) # split división de array en partes de 3 elementos\n",
        "print(array_c, \" \\n\")\n",
        "print(split_array)\n"
      ],
      "metadata": {
        "colab": {
          "base_uri": "https://localhost:8080/"
        },
        "id": "mzLfVXrItkAY",
        "outputId": "0cc8831c-b83a-45fd-c9c8-1b236da542aa"
      },
      "execution_count": 14,
      "outputs": [
        {
          "output_type": "stream",
          "name": "stdout",
          "text": [
            "[1 2 3 4 5 6 7 8 9]  \n",
            "\n",
            "[array([1, 2, 3]), array([4, 5, 6]), array([7, 8, 9])]\n"
          ]
        }
      ]
    }
  ]
}