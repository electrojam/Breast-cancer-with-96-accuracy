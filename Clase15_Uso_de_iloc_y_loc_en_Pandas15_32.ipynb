{
  "nbformat": 4,
  "nbformat_minor": 0,
  "metadata": {
    "colab": {
      "provenance": [],
      "authorship_tag": "ABX9TyM7LJ9/xX1JJEZgkUQ/LgK9",
      "include_colab_link": true
    },
    "kernelspec": {
      "name": "python3",
      "display_name": "Python 3"
    },
    "language_info": {
      "name": "python"
    }
  },
  "cells": [
    {
      "cell_type": "markdown",
      "metadata": {
        "id": "view-in-github",
        "colab_type": "text"
      },
      "source": [
        "<a href=\"https://colab.research.google.com/github/electrojam/Breast-cancer-with-96-accuracy/blob/main/Clase15_Uso_de_iloc_y_loc_en_Pandas15_32.ipynb\" target=\"_parent\"><img src=\"https://colab.research.google.com/assets/colab-badge.svg\" alt=\"Open In Colab\"/></a>"
      ]
    },
    {
      "cell_type": "code",
      "execution_count": 17,
      "metadata": {
        "id": "CmpgJ_e3FLlU"
      },
      "outputs": [],
      "source": [
        "import pandas as pd"
      ]
    },
    {
      "cell_type": "code",
      "source": [
        "path = '/content/online_retail.csv'\n",
        "retail_data = pd.read_csv(path)"
      ],
      "metadata": {
        "id": "aUTMQiBhFN2J"
      },
      "execution_count": 18,
      "outputs": []
    },
    {
      "cell_type": "markdown",
      "source": [
        "#### iloc selección de datos"
      ],
      "metadata": {
        "id": "dCb4onYPGzzI"
      }
    },
    {
      "cell_type": "code",
      "source": [
        "# primera fila con iloc\n",
        "first_row = retail_data.iloc[0]\n",
        "print(first_row)"
      ],
      "metadata": {
        "colab": {
          "base_uri": "https://localhost:8080/"
        },
        "id": "6X_rBgqoFd0k",
        "outputId": "e9b5e4aa-4c5d-4b0c-a321-e214d2f6aeca"
      },
      "execution_count": 19,
      "outputs": [
        {
          "output_type": "stream",
          "name": "stdout",
          "text": [
            "InvoiceNo                                  536365\n",
            "StockCode                                  85123A\n",
            "Description    WHITE HANGING HEART T-LIGHT HOLDER\n",
            "Quantity                                        6\n",
            "InvoiceDate                        12/1/2010 8:26\n",
            "UnitPrice                                    2.55\n",
            "CustomerID                                17850.0\n",
            "Country                            United Kingdom\n",
            "Name: 0, dtype: object\n"
          ]
        }
      ]
    },
    {
      "cell_type": "code",
      "source": [
        "# Primeras 5 filas con iloc\n",
        "first_five_row = retail_data.iloc[:5]\n",
        "print(first_five_row)"
      ],
      "metadata": {
        "colab": {
          "base_uri": "https://localhost:8080/"
        },
        "id": "KTgE13xAFnbU",
        "outputId": "cae41b91-4838-408e-a2ce-f2a47106f8b5"
      },
      "execution_count": 20,
      "outputs": [
        {
          "output_type": "stream",
          "name": "stdout",
          "text": [
            "  InvoiceNo StockCode                          Description  Quantity  \\\n",
            "0    536365    85123A   WHITE HANGING HEART T-LIGHT HOLDER         6   \n",
            "1    536365     71053                  WHITE METAL LANTERN         6   \n",
            "2    536365    84406B       CREAM CUPID HEARTS COAT HANGER         8   \n",
            "3    536365    84029G  KNITTED UNION FLAG HOT WATER BOTTLE         6   \n",
            "4    536365    84029E       RED WOOLLY HOTTIE WHITE HEART.         6   \n",
            "\n",
            "      InvoiceDate  UnitPrice  CustomerID         Country  \n",
            "0  12/1/2010 8:26       2.55     17850.0  United Kingdom  \n",
            "1  12/1/2010 8:26       3.39     17850.0  United Kingdom  \n",
            "2  12/1/2010 8:26       2.75     17850.0  United Kingdom  \n",
            "3  12/1/2010 8:26       3.39     17850.0  United Kingdom  \n",
            "4  12/1/2010 8:26       3.39     17850.0  United Kingdom  \n"
          ]
        }
      ]
    },
    {
      "cell_type": "code",
      "source": [
        "# primeras 3 filas y las primeras 2 columnas\n",
        "subset = retail_data.iloc[:3,:2]\n",
        "print(subset)"
      ],
      "metadata": {
        "colab": {
          "base_uri": "https://localhost:8080/"
        },
        "id": "ZyKRuvz6F6a0",
        "outputId": "2e339783-13e7-48ad-cdad-6bf289469051"
      },
      "execution_count": 21,
      "outputs": [
        {
          "output_type": "stream",
          "name": "stdout",
          "text": [
            "  InvoiceNo StockCode\n",
            "0    536365    85123A\n",
            "1    536365     71053\n",
            "2    536365    84406B\n"
          ]
        }
      ]
    },
    {
      "cell_type": "code",
      "source": [
        "# dato de posición [1,2]\n",
        "retail_value = retail_data.iloc[1,2]\n",
        "print(retail_value)"
      ],
      "metadata": {
        "colab": {
          "base_uri": "https://localhost:8080/"
        },
        "id": "da2OWcDNGcNU",
        "outputId": "a5d5fd96-9839-44ba-dedd-1f360a17e08e"
      },
      "execution_count": 22,
      "outputs": [
        {
          "output_type": "stream",
          "name": "stdout",
          "text": [
            "WHITE METAL LANTERN\n"
          ]
        }
      ]
    },
    {
      "cell_type": "markdown",
      "source": [
        "#### loc selección de datos"
      ],
      "metadata": {
        "id": "UjP44fmUG36b"
      }
    },
    {
      "cell_type": "code",
      "source": [
        "row_index_3 = retail_data.loc[3]\n",
        "print(row_index_3)"
      ],
      "metadata": {
        "colab": {
          "base_uri": "https://localhost:8080/"
        },
        "id": "UV1MbaRHGvgU",
        "outputId": "f2d935a0-7b51-4542-a1d7-7991348266f0"
      },
      "execution_count": 23,
      "outputs": [
        {
          "output_type": "stream",
          "name": "stdout",
          "text": [
            "InvoiceNo                                   536365\n",
            "StockCode                                   84029G\n",
            "Description    KNITTED UNION FLAG HOT WATER BOTTLE\n",
            "Quantity                                         6\n",
            "InvoiceDate                         12/1/2010 8:26\n",
            "UnitPrice                                     3.39\n",
            "CustomerID                                 17850.0\n",
            "Country                             United Kingdom\n",
            "Name: 3, dtype: object\n"
          ]
        }
      ]
    },
    {
      "cell_type": "code",
      "source": [
        "# loc extraer filas desde la 0:4\n",
        "row_index_4 = retail_data.loc[0:4]\n",
        "print(row_index_4)"
      ],
      "metadata": {
        "colab": {
          "base_uri": "https://localhost:8080/"
        },
        "id": "bHAVlw93HDM0",
        "outputId": "51e54072-ec59-4c8f-f939-3a657bdcfb7b"
      },
      "execution_count": 24,
      "outputs": [
        {
          "output_type": "stream",
          "name": "stdout",
          "text": [
            "  InvoiceNo StockCode                          Description  Quantity  \\\n",
            "0    536365    85123A   WHITE HANGING HEART T-LIGHT HOLDER         6   \n",
            "1    536365     71053                  WHITE METAL LANTERN         6   \n",
            "2    536365    84406B       CREAM CUPID HEARTS COAT HANGER         8   \n",
            "3    536365    84029G  KNITTED UNION FLAG HOT WATER BOTTLE         6   \n",
            "4    536365    84029E       RED WOOLLY HOTTIE WHITE HEART.         6   \n",
            "\n",
            "      InvoiceDate  UnitPrice  CustomerID         Country  \n",
            "0  12/1/2010 8:26       2.55     17850.0  United Kingdom  \n",
            "1  12/1/2010 8:26       3.39     17850.0  United Kingdom  \n",
            "2  12/1/2010 8:26       2.75     17850.0  United Kingdom  \n",
            "3  12/1/2010 8:26       3.39     17850.0  United Kingdom  \n",
            "4  12/1/2010 8:26       3.39     17850.0  United Kingdom  \n"
          ]
        }
      ]
    },
    {
      "cell_type": "code",
      "source": [
        "# loc extraer todas las filas de la columna Quantity\n",
        "quantity_column = retail_data.loc[:,'Quantity']\n",
        "print(quantity_column)"
      ],
      "metadata": {
        "colab": {
          "base_uri": "https://localhost:8080/"
        },
        "id": "WkFh9xwBHyaF",
        "outputId": "5c62b011-e045-4506-c2fe-62147246b12d"
      },
      "execution_count": 25,
      "outputs": [
        {
          "output_type": "stream",
          "name": "stdout",
          "text": [
            "0          6\n",
            "1          6\n",
            "2          8\n",
            "3          6\n",
            "4          6\n",
            "          ..\n",
            "541904    12\n",
            "541905     6\n",
            "541906     4\n",
            "541907     4\n",
            "541908     3\n",
            "Name: Quantity, Length: 541909, dtype: int64\n"
          ]
        }
      ]
    },
    {
      "cell_type": "code",
      "source": [
        "# loc extraer todas las filas de las columnas Quantity y Unitprices\n",
        "quantity_unitprices_column = retail_data.loc[:, ['Quantity', 'UnitPrice']]\n",
        "print(quantity_unitprices_column)"
      ],
      "metadata": {
        "colab": {
          "base_uri": "https://localhost:8080/"
        },
        "id": "rnsTXIUFH-ul",
        "outputId": "d6bc7996-b5c1-417d-b84c-2053355c1624"
      },
      "execution_count": 26,
      "outputs": [
        {
          "output_type": "stream",
          "name": "stdout",
          "text": [
            "        Quantity  UnitPrice\n",
            "0              6       2.55\n",
            "1              6       3.39\n",
            "2              8       2.75\n",
            "3              6       3.39\n",
            "4              6       3.39\n",
            "...          ...        ...\n",
            "541904        12       0.85\n",
            "541905         6       2.10\n",
            "541906         4       4.15\n",
            "541907         4       4.15\n",
            "541908         3       4.95\n",
            "\n",
            "[541909 rows x 2 columns]\n"
          ]
        }
      ]
    },
    {
      "cell_type": "markdown",
      "source": [
        "#### Ejercicio Práctico\n",
        "\n",
        "1. Seleccionar Subconjuntos de Datos:\n",
        "- Utiliza iloc para seleccionar las primeras 10 filas y las primeras 2 columnas del dataset de retail.\n",
        "- Utiliza loc para seleccionar todas las filas y las columnas ‘Quantity’ y ‘UnitPrice’.\n",
        "2. Acceso Específico:\n",
        "- Utiliza iloc para seleccionar el valor en la quinta fila y la segunda columna.\n",
        "- Utiliza loc para seleccionar todas las filas donde el país es ‘United Kingdom’ y mostrar las columnas ‘Quantity’ y ‘UnitPrice’.\n"
      ],
      "metadata": {
        "id": "A2CgkMaZIlMA"
      }
    },
    {
      "cell_type": "code",
      "source": [
        "# Utiliza iloc para seleccionar las primeras 10 filas y las primeras 2 columnas del dataset de retail.\n",
        "row_10_col_2 = retail_data.iloc[:10, :2]\n",
        "print(row_10_col_2)"
      ],
      "metadata": {
        "colab": {
          "base_uri": "https://localhost:8080/"
        },
        "id": "I38jHXy_IRxV",
        "outputId": "614b830b-b38f-4919-ab26-4aa33421e72b"
      },
      "execution_count": 28,
      "outputs": [
        {
          "output_type": "stream",
          "name": "stdout",
          "text": [
            "  InvoiceNo StockCode\n",
            "0    536365    85123A\n",
            "1    536365     71053\n",
            "2    536365    84406B\n",
            "3    536365    84029G\n",
            "4    536365    84029E\n",
            "5    536365     22752\n",
            "6    536365     21730\n",
            "7    536366     22633\n",
            "8    536366     22632\n",
            "9    536367     84879\n"
          ]
        }
      ]
    },
    {
      "cell_type": "code",
      "source": [
        "# Utiliza loc para seleccionar todas las filas y las columnas ‘Quantity’ y ‘UnitPrice’.\n",
        "quantity_unitprice = retail_data.loc[:, ['Quantity', 'UnitPrice']]\n",
        "print(quantity_unitprice)"
      ],
      "metadata": {
        "colab": {
          "base_uri": "https://localhost:8080/"
        },
        "id": "xF4mcoBqJFgG",
        "outputId": "e5c16b6b-1395-4a46-9ead-0ff3315cb25a"
      },
      "execution_count": 29,
      "outputs": [
        {
          "output_type": "stream",
          "name": "stdout",
          "text": [
            "        Quantity  UnitPrice\n",
            "0              6       2.55\n",
            "1              6       3.39\n",
            "2              8       2.75\n",
            "3              6       3.39\n",
            "4              6       3.39\n",
            "...          ...        ...\n",
            "541904        12       0.85\n",
            "541905         6       2.10\n",
            "541906         4       4.15\n",
            "541907         4       4.15\n",
            "541908         3       4.95\n",
            "\n",
            "[541909 rows x 2 columns]\n"
          ]
        }
      ]
    },
    {
      "cell_type": "code",
      "source": [
        "# Utiliza iloc para seleccionar el valor en la quinta fila y la segunda columna.\n",
        "row_5_col_2 = retail_data.iloc[5,2]\n",
        "print(row_5_col_2)"
      ],
      "metadata": {
        "colab": {
          "base_uri": "https://localhost:8080/"
        },
        "id": "3-Y674dNJbUG",
        "outputId": "46a3894a-69a9-44f6-b685-e25a3e7d85a1"
      },
      "execution_count": 30,
      "outputs": [
        {
          "output_type": "stream",
          "name": "stdout",
          "text": [
            "SET 7 BABUSHKA NESTING BOXES\n"
          ]
        }
      ]
    },
    {
      "cell_type": "code",
      "source": [
        "# Utiliza loc para seleccionar todas las filas donde el país es ‘United Kingdom’ y mostrar las columnas ‘Quantity’ y ‘UnitPrice’.\n",
        "united = retail_data.loc[retail_data['Country'] == 'United Kingdom', ['Quantity', 'UnitPrice']]\n",
        "print(united)"
      ],
      "metadata": {
        "colab": {
          "base_uri": "https://localhost:8080/"
        },
        "id": "t-430bDFJqmj",
        "outputId": "7deaa041-4406-4a11-9d8b-fb92876dd2e0"
      },
      "execution_count": 34,
      "outputs": [
        {
          "output_type": "stream",
          "name": "stdout",
          "text": [
            "        Quantity  UnitPrice\n",
            "0              6       2.55\n",
            "1              6       3.39\n",
            "2              8       2.75\n",
            "3              6       3.39\n",
            "4              6       3.39\n",
            "...          ...        ...\n",
            "541889        12       1.95\n",
            "541890         8       2.95\n",
            "541891        24       1.25\n",
            "541892        24       8.95\n",
            "541893        10       7.08\n",
            "\n",
            "[495478 rows x 2 columns]\n"
          ]
        }
      ]
    },
    {
      "cell_type": "code",
      "source": [],
      "metadata": {
        "id": "fvHpxzapJ-zH"
      },
      "execution_count": null,
      "outputs": []
    }
  ]
}